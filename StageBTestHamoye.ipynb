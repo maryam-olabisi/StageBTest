{
 "cells": [
  {
   "cell_type": "code",
   "execution_count": 1,
   "metadata": {},
   "outputs": [],
   "source": [
    "import numpy as np\n",
    "import pandas as pd\n",
    "import matplotlib.pyplot as plt\n"
   ]
  },
  {
   "cell_type": "code",
   "execution_count": 25,
   "metadata": {},
   "outputs": [],
   "source": [
    "df = pd.read_csv('energydata_complete.csv')"
   ]
  },
  {
   "cell_type": "code",
   "execution_count": 27,
   "metadata": {},
   "outputs": [
    {
     "name": "stdout",
     "output_type": "stream",
     "text": [
      "                      date  Appliances  lights         T1       RH_1  \\\n",
      "0      2016-01-11 17:00:00          60      30  19.890000  47.596667   \n",
      "1      2016-01-11 17:10:00          60      30  19.890000  46.693333   \n",
      "2      2016-01-11 17:20:00          50      30  19.890000  46.300000   \n",
      "3      2016-01-11 17:30:00          50      40  19.890000  46.066667   \n",
      "4      2016-01-11 17:40:00          60      40  19.890000  46.333333   \n",
      "...                    ...         ...     ...        ...        ...   \n",
      "19730  2016-05-27 17:20:00         100       0  25.566667  46.560000   \n",
      "19731  2016-05-27 17:30:00          90       0  25.500000  46.500000   \n",
      "19732  2016-05-27 17:40:00         270      10  25.500000  46.596667   \n",
      "19733  2016-05-27 17:50:00         420      10  25.500000  46.990000   \n",
      "19734  2016-05-27 18:00:00         430      10  25.500000  46.600000   \n",
      "\n",
      "              T2       RH_2         T3       RH_3         T4  ...         T9  \\\n",
      "0      19.200000  44.790000  19.790000  44.730000  19.000000  ...  17.033333   \n",
      "1      19.200000  44.722500  19.790000  44.790000  19.000000  ...  17.066667   \n",
      "2      19.200000  44.626667  19.790000  44.933333  18.926667  ...  17.000000   \n",
      "3      19.200000  44.590000  19.790000  45.000000  18.890000  ...  17.000000   \n",
      "4      19.200000  44.530000  19.790000  45.000000  18.890000  ...  17.000000   \n",
      "...          ...        ...        ...        ...        ...  ...        ...   \n",
      "19730  25.890000  42.025714  27.200000  41.163333  24.700000  ...  23.200000   \n",
      "19731  25.754000  42.080000  27.133333  41.223333  24.700000  ...  23.200000   \n",
      "19732  25.628571  42.768571  27.050000  41.690000  24.700000  ...  23.200000   \n",
      "19733  25.414000  43.036000  26.890000  41.290000  24.700000  ...  23.200000   \n",
      "19734  25.264286  42.971429  26.823333  41.156667  24.700000  ...  23.200000   \n",
      "\n",
      "          RH_9      T_out  Press_mm_hg     RH_out  Windspeed  Visibility  \\\n",
      "0      45.5300   6.600000        733.5  92.000000   7.000000   63.000000   \n",
      "1      45.5600   6.483333        733.6  92.000000   6.666667   59.166667   \n",
      "2      45.5000   6.366667        733.7  92.000000   6.333333   55.333333   \n",
      "3      45.4000   6.250000        733.8  92.000000   6.000000   51.500000   \n",
      "4      45.4000   6.133333        733.9  92.000000   5.666667   47.666667   \n",
      "...        ...        ...          ...        ...        ...         ...   \n",
      "19730  46.7900  22.733333        755.2  55.666667   3.333333   23.666667   \n",
      "19731  46.7900  22.600000        755.2  56.000000   3.500000   24.500000   \n",
      "19732  46.7900  22.466667        755.2  56.333333   3.666667   25.333333   \n",
      "19733  46.8175  22.333333        755.2  56.666667   3.833333   26.166667   \n",
      "19734  46.8450  22.200000        755.2  57.000000   4.000000   27.000000   \n",
      "\n",
      "       Tdewpoint        rv1        rv2  \n",
      "0       5.300000  13.275433  13.275433  \n",
      "1       5.200000  18.606195  18.606195  \n",
      "2       5.100000  28.642668  28.642668  \n",
      "3       5.000000  45.410389  45.410389  \n",
      "4       4.900000  10.084097  10.084097  \n",
      "...          ...        ...        ...  \n",
      "19730  13.333333  43.096812  43.096812  \n",
      "19731  13.300000  49.282940  49.282940  \n",
      "19732  13.266667  29.199117  29.199117  \n",
      "19733  13.233333   6.322784   6.322784  \n",
      "19734  13.200000  34.118851  34.118851  \n",
      "\n",
      "[19735 rows x 29 columns]\n"
     ]
    }
   ],
   "source": [
    "print(df)"
   ]
  },
  {
   "cell_type": "code",
   "execution_count": 7,
   "metadata": {},
   "outputs": [
    {
     "name": "stdout",
     "output_type": "stream",
     "text": [
      "       Appliances         T1       RH_1         T2       RH_2         T3  \\\n",
      "0              60  19.890000  47.596667  19.200000  44.790000  19.790000   \n",
      "1              60  19.890000  46.693333  19.200000  44.722500  19.790000   \n",
      "2              50  19.890000  46.300000  19.200000  44.626667  19.790000   \n",
      "3              50  19.890000  46.066667  19.200000  44.590000  19.790000   \n",
      "4              60  19.890000  46.333333  19.200000  44.530000  19.790000   \n",
      "...           ...        ...        ...        ...        ...        ...   \n",
      "19730         100  25.566667  46.560000  25.890000  42.025714  27.200000   \n",
      "19731          90  25.500000  46.500000  25.754000  42.080000  27.133333   \n",
      "19732         270  25.500000  46.596667  25.628571  42.768571  27.050000   \n",
      "19733         420  25.500000  46.990000  25.414000  43.036000  26.890000   \n",
      "19734         430  25.500000  46.600000  25.264286  42.971429  26.823333   \n",
      "\n",
      "            RH_3         T4       RH_4         T5  ...         T9     RH_9  \\\n",
      "0      44.730000  19.000000  45.566667  17.166667  ...  17.033333  45.5300   \n",
      "1      44.790000  19.000000  45.992500  17.166667  ...  17.066667  45.5600   \n",
      "2      44.933333  18.926667  45.890000  17.166667  ...  17.000000  45.5000   \n",
      "3      45.000000  18.890000  45.723333  17.166667  ...  17.000000  45.4000   \n",
      "4      45.000000  18.890000  45.530000  17.200000  ...  17.000000  45.4000   \n",
      "...          ...        ...        ...        ...  ...        ...      ...   \n",
      "19730  41.163333  24.700000  45.590000  23.200000  ...  23.200000  46.7900   \n",
      "19731  41.223333  24.700000  45.590000  23.230000  ...  23.200000  46.7900   \n",
      "19732  41.690000  24.700000  45.730000  23.230000  ...  23.200000  46.7900   \n",
      "19733  41.290000  24.700000  45.790000  23.200000  ...  23.200000  46.8175   \n",
      "19734  41.156667  24.700000  45.963333  23.200000  ...  23.200000  46.8450   \n",
      "\n",
      "           T_out  Press_mm_hg     RH_out  Windspeed  Visibility  Tdewpoint  \\\n",
      "0       6.600000        733.5  92.000000   7.000000   63.000000   5.300000   \n",
      "1       6.483333        733.6  92.000000   6.666667   59.166667   5.200000   \n",
      "2       6.366667        733.7  92.000000   6.333333   55.333333   5.100000   \n",
      "3       6.250000        733.8  92.000000   6.000000   51.500000   5.000000   \n",
      "4       6.133333        733.9  92.000000   5.666667   47.666667   4.900000   \n",
      "...          ...          ...        ...        ...         ...        ...   \n",
      "19730  22.733333        755.2  55.666667   3.333333   23.666667  13.333333   \n",
      "19731  22.600000        755.2  56.000000   3.500000   24.500000  13.300000   \n",
      "19732  22.466667        755.2  56.333333   3.666667   25.333333  13.266667   \n",
      "19733  22.333333        755.2  56.666667   3.833333   26.166667  13.233333   \n",
      "19734  22.200000        755.2  57.000000   4.000000   27.000000  13.200000   \n",
      "\n",
      "             rv1        rv2  \n",
      "0      13.275433  13.275433  \n",
      "1      18.606195  18.606195  \n",
      "2      28.642668  28.642668  \n",
      "3      45.410389  45.410389  \n",
      "4      10.084097  10.084097  \n",
      "...          ...        ...  \n",
      "19730  43.096812  43.096812  \n",
      "19731  49.282940  49.282940  \n",
      "19732  29.199117  29.199117  \n",
      "19733   6.322784   6.322784  \n",
      "19734  34.118851  34.118851  \n",
      "\n",
      "[19735 rows x 27 columns]\n"
     ]
    }
   ],
   "source": []
  },
  {
   "cell_type": "code",
   "execution_count": 28,
   "metadata": {
    "scrolled": true
   },
   "outputs": [],
   "source": [
    "from sklearn.preprocessing import MinMaxScaler\n",
    "scaler = MinMaxScaler()"
   ]
  },
  {
   "cell_type": "code",
   "execution_count": 31,
   "metadata": {},
   "outputs": [],
   "source": [
    "# # remove column from dataset\n",
    "del df['date']\n",
    "del df['lights']\n",
    "# print(df)\n",
    "# features_df = normalised_df.drop(columns=[ 'date' , 'lights' ])"
   ]
  },
  {
   "cell_type": "code",
   "execution_count": 59,
   "metadata": {},
   "outputs": [],
   "source": [
    "normalised_df = pd.DataFrame(scaler.fit_transform(df), columns=df.columns)\n",
    "# print(df)\n",
    "features_df = normalised_df.drop(columns=[ 'T6' , 'T2' ])"
   ]
  },
  {
   "cell_type": "code",
   "execution_count": 60,
   "metadata": {},
   "outputs": [],
   "source": [
    "target_variable = normalised_df[ 'Appliances' ]"
   ]
  },
  {
   "cell_type": "code",
   "execution_count": 38,
   "metadata": {},
   "outputs": [
    {
     "name": "stdout",
     "output_type": "stream",
     "text": [
      "0        0.046729\n",
      "1        0.046729\n",
      "2        0.037383\n",
      "3        0.037383\n",
      "4        0.046729\n",
      "           ...   \n",
      "19730    0.084112\n",
      "19731    0.074766\n",
      "19732    0.242991\n",
      "19733    0.383178\n",
      "19734    0.392523\n",
      "Name: Appliances, Length: 19735, dtype: float64\n"
     ]
    }
   ],
   "source": [
    "print(target_variable)"
   ]
  },
  {
   "cell_type": "code",
   "execution_count": 44,
   "metadata": {},
   "outputs": [
    {
     "name": "stdout",
     "output_type": "stream",
     "text": [
      "       Appliances        T1      RH_1      RH_2        T3      RH_3        T4  \\\n",
      "0        0.046729  0.327350  0.566187  0.684038  0.215188  0.746066  0.351351   \n",
      "1        0.046729  0.327350  0.541326  0.682140  0.215188  0.748871  0.351351   \n",
      "2        0.037383  0.327350  0.530502  0.679445  0.215188  0.755569  0.344745   \n",
      "3        0.037383  0.327350  0.524080  0.678414  0.215188  0.758685  0.341441   \n",
      "4        0.046729  0.327350  0.531419  0.676727  0.215188  0.758685  0.341441   \n",
      "...           ...       ...       ...       ...       ...       ...       ...   \n",
      "19730    0.084112  0.926786  0.537657  0.606309  0.830841  0.579374  0.864865   \n",
      "19731    0.074766  0.919747  0.536006  0.607836  0.825302  0.582178  0.864865   \n",
      "19732    0.242991  0.919747  0.538666  0.627198  0.818378  0.603988  0.864865   \n",
      "19733    0.383178  0.919747  0.549491  0.634717  0.805085  0.585294  0.864865   \n",
      "19734    0.392523  0.919747  0.538758  0.632902  0.799546  0.579062  0.864865   \n",
      "\n",
      "           RH_4        T5      RH_5  ...        T9      RH_9     T_out  \\\n",
      "0      0.764262  0.175506  0.381691  ...  0.223032  0.677290  0.372990   \n",
      "1      0.782437  0.175506  0.381691  ...  0.226500  0.678532  0.369239   \n",
      "2      0.778062  0.175506  0.380037  ...  0.219563  0.676049  0.365488   \n",
      "3      0.770949  0.175506  0.380037  ...  0.219563  0.671909  0.361736   \n",
      "4      0.762697  0.178691  0.380037  ...  0.219563  0.671909  0.357985   \n",
      "...         ...       ...       ...  ...       ...       ...       ...   \n",
      "19730  0.765258  0.752031  0.339590  ...  0.864724  0.729443  0.891747   \n",
      "19731  0.765258  0.754897  0.338487  ...  0.864724  0.729443  0.887460   \n",
      "19732  0.771233  0.754897  0.337585  ...  0.864724  0.729443  0.883173   \n",
      "19733  0.773794  0.752031  0.336583  ...  0.864724  0.730581  0.878885   \n",
      "19734  0.781192  0.752031  0.336583  ...  0.864724  0.731719  0.874598   \n",
      "\n",
      "       Press_mm_hg    RH_out  Windspeed  Visibility  Tdewpoint       rv1  \\\n",
      "0         0.097674  0.894737   0.500000    0.953846   0.538462  0.265449   \n",
      "1         0.100000  0.894737   0.476190    0.894872   0.533937  0.372083   \n",
      "2         0.102326  0.894737   0.452381    0.835897   0.529412  0.572848   \n",
      "3         0.104651  0.894737   0.428571    0.776923   0.524887  0.908261   \n",
      "4         0.106977  0.894737   0.404762    0.717949   0.520362  0.201611   \n",
      "...            ...       ...        ...         ...        ...       ...   \n",
      "19730     0.602326  0.416667   0.238095    0.348718   0.901961  0.861981   \n",
      "19731     0.602326  0.421053   0.250000    0.361538   0.900452  0.985726   \n",
      "19732     0.602326  0.425439   0.261905    0.374359   0.898944  0.583979   \n",
      "19733     0.602326  0.429825   0.273810    0.387179   0.897436  0.126371   \n",
      "19734     0.602326  0.434211   0.285714    0.400000   0.895928  0.682391   \n",
      "\n",
      "            rv2  \n",
      "0      0.265449  \n",
      "1      0.372083  \n",
      "2      0.572848  \n",
      "3      0.908261  \n",
      "4      0.201611  \n",
      "...         ...  \n",
      "19730  0.861981  \n",
      "19731  0.985726  \n",
      "19732  0.583979  \n",
      "19733  0.126371  \n",
      "19734  0.682391  \n",
      "\n",
      "[19735 rows x 25 columns]\n"
     ]
    }
   ],
   "source": [
    "print(features_df)"
   ]
  },
  {
   "cell_type": "code",
   "execution_count": 46,
   "metadata": {},
   "outputs": [
    {
     "name": "stdout",
     "output_type": "stream",
     "text": [
      "       Appliances        T1      RH_1        T2      RH_2        T3      RH_3  \\\n",
      "0        0.046729  0.327350  0.566187  0.225345  0.684038  0.215188  0.746066   \n",
      "1        0.046729  0.327350  0.541326  0.225345  0.682140  0.215188  0.748871   \n",
      "2        0.037383  0.327350  0.530502  0.225345  0.679445  0.215188  0.755569   \n",
      "3        0.037383  0.327350  0.524080  0.225345  0.678414  0.215188  0.758685   \n",
      "4        0.046729  0.327350  0.531419  0.225345  0.676727  0.215188  0.758685   \n",
      "...           ...       ...       ...       ...       ...       ...       ...   \n",
      "19730    0.084112  0.926786  0.537657  0.711655  0.606309  0.830841  0.579374   \n",
      "19731    0.074766  0.919747  0.536006  0.701769  0.607836  0.825302  0.582178   \n",
      "19732    0.242991  0.919747  0.538666  0.692651  0.627198  0.818378  0.603988   \n",
      "19733    0.383178  0.919747  0.549491  0.677054  0.634717  0.805085  0.585294   \n",
      "19734    0.392523  0.919747  0.538758  0.666171  0.632902  0.799546  0.579062   \n",
      "\n",
      "             T4      RH_4        T5  ...        T9      RH_9     T_out  \\\n",
      "0      0.351351  0.764262  0.175506  ...  0.223032  0.677290  0.372990   \n",
      "1      0.351351  0.782437  0.175506  ...  0.226500  0.678532  0.369239   \n",
      "2      0.344745  0.778062  0.175506  ...  0.219563  0.676049  0.365488   \n",
      "3      0.341441  0.770949  0.175506  ...  0.219563  0.671909  0.361736   \n",
      "4      0.341441  0.762697  0.178691  ...  0.219563  0.671909  0.357985   \n",
      "...         ...       ...       ...  ...       ...       ...       ...   \n",
      "19730  0.864865  0.765258  0.752031  ...  0.864724  0.729443  0.891747   \n",
      "19731  0.864865  0.765258  0.754897  ...  0.864724  0.729443  0.887460   \n",
      "19732  0.864865  0.771233  0.754897  ...  0.864724  0.729443  0.883173   \n",
      "19733  0.864865  0.773794  0.752031  ...  0.864724  0.730581  0.878885   \n",
      "19734  0.864865  0.781192  0.752031  ...  0.864724  0.731719  0.874598   \n",
      "\n",
      "       Press_mm_hg    RH_out  Windspeed  Visibility  Tdewpoint       rv1  \\\n",
      "0         0.097674  0.894737   0.500000    0.953846   0.538462  0.265449   \n",
      "1         0.100000  0.894737   0.476190    0.894872   0.533937  0.372083   \n",
      "2         0.102326  0.894737   0.452381    0.835897   0.529412  0.572848   \n",
      "3         0.104651  0.894737   0.428571    0.776923   0.524887  0.908261   \n",
      "4         0.106977  0.894737   0.404762    0.717949   0.520362  0.201611   \n",
      "...            ...       ...        ...         ...        ...       ...   \n",
      "19730     0.602326  0.416667   0.238095    0.348718   0.901961  0.861981   \n",
      "19731     0.602326  0.421053   0.250000    0.361538   0.900452  0.985726   \n",
      "19732     0.602326  0.425439   0.261905    0.374359   0.898944  0.583979   \n",
      "19733     0.602326  0.429825   0.273810    0.387179   0.897436  0.126371   \n",
      "19734     0.602326  0.434211   0.285714    0.400000   0.895928  0.682391   \n",
      "\n",
      "            rv2  \n",
      "0      0.265449  \n",
      "1      0.372083  \n",
      "2      0.572848  \n",
      "3      0.908261  \n",
      "4      0.201611  \n",
      "...         ...  \n",
      "19730  0.861981  \n",
      "19731  0.985726  \n",
      "19732  0.583979  \n",
      "19733  0.126371  \n",
      "19734  0.682391  \n",
      "\n",
      "[19735 rows x 27 columns]\n"
     ]
    }
   ],
   "source": [
    "print(normalised_df)"
   ]
  },
  {
   "cell_type": "code",
   "execution_count": 61,
   "metadata": {},
   "outputs": [],
   "source": [
    "from sklearn.model_selection import train_test_split\n",
    "x_train, x_test, y_train, y_test = train_test_split(features_df, target_variable, train_size=0.7,test_size= 0.3 , random_state= 42 )"
   ]
  },
  {
   "cell_type": "code",
   "execution_count": 62,
   "metadata": {},
   "outputs": [],
   "source": [
    "from sklearn.linear_model import LinearRegression\n",
    "linear_model = LinearRegression()\n",
    "\n",
    "#fit the model to the training dataset\n",
    "linear_model.fit(x_train, y_train)\n",
    "\n",
    "#obtain predictions\n",
    "predicted_values = linear_model.predict(x_test)\n"
   ]
  },
  {
   "cell_type": "code",
   "execution_count": 66,
   "metadata": {},
   "outputs": [
    {
     "name": "stdout",
     "output_type": "stream",
     "text": [
      "[0.02803738 0.07476636 0.03738318 ... 0.03738318 0.09345794 0.03738318]\n"
     ]
    }
   ],
   "source": [
    "print(predicted_values)"
   ]
  },
  {
   "cell_type": "code",
   "execution_count": 67,
   "metadata": {},
   "outputs": [
    {
     "data": {
      "text/plain": [
       "0.0"
      ]
     },
     "execution_count": 67,
     "metadata": {},
     "output_type": "execute_result"
    }
   ],
   "source": [
    "#MAE\n",
    "from sklearn.metrics import mean_absolute_error\n",
    "mae = mean_absolute_error(y_test, predicted_values)\n",
    "round(mae, 2 )"
   ]
  },
  {
   "cell_type": "code",
   "execution_count": 64,
   "metadata": {},
   "outputs": [
    {
     "data": {
      "text/plain": [
       "1.0"
      ]
     },
     "execution_count": 64,
     "metadata": {},
     "output_type": "execute_result"
    }
   ],
   "source": [
    "from sklearn.metrics import r2_score\n",
    "r2_score = r2_score(y_test, predicted_values)\n",
    "round(r2_score, 3 ) #prints 0.893"
   ]
  },
  {
   "cell_type": "code",
   "execution_count": 68,
   "metadata": {},
   "outputs": [
    {
     "data": {
      "text/plain": [
       "0.0"
      ]
     },
     "execution_count": 68,
     "metadata": {},
     "output_type": "execute_result"
    }
   ],
   "source": [
    "import numpy as np\n",
    "rss = np.sum(np.square(y_test - predicted_values))\n",
    "round(rss, 3 )"
   ]
  },
  {
   "cell_type": "code",
   "execution_count": 69,
   "metadata": {},
   "outputs": [
    {
     "data": {
      "text/plain": [
       "0.0"
      ]
     },
     "execution_count": 69,
     "metadata": {},
     "output_type": "execute_result"
    }
   ],
   "source": [
    "from sklearn.metrics import mean_squared_error\n",
    "rmse = np.sqrt(mean_squared_error(y_test, predicted_values))\n",
    "round(rmse, 3 )"
   ]
  },
  {
   "cell_type": "code",
   "execution_count": 17,
   "metadata": {},
   "outputs": [
    {
     "ename": "ModuleNotFoundError",
     "evalue": "No module named 'sklearn'",
     "output_type": "error",
     "traceback": [
      "\u001b[0;31m---------------------------------------------------------------------------\u001b[0m",
      "\u001b[0;31mModuleNotFoundError\u001b[0m                       Traceback (most recent call last)",
      "\u001b[0;32m<ipython-input-17-a83e8a732cf8>\u001b[0m in \u001b[0;36m<module>\u001b[0;34m\u001b[0m\n\u001b[0;32m----> 1\u001b[0;31m \u001b[0;32mfrom\u001b[0m \u001b[0msklearn\u001b[0m\u001b[0;34m.\u001b[0m\u001b[0mpreprocessing\u001b[0m \u001b[0;32mimport\u001b[0m \u001b[0mMinMaxScaler\u001b[0m\u001b[0;34m\u001b[0m\u001b[0;34m\u001b[0m\u001b[0m\n\u001b[0m",
      "\u001b[0;31mModuleNotFoundError\u001b[0m: No module named 'sklearn'"
     ]
    }
   ],
   "source": []
  },
  {
   "cell_type": "code",
   "execution_count": 18,
   "metadata": {},
   "outputs": [
    {
     "name": "stdout",
     "output_type": "stream",
     "text": [
      "Collecting sklearn\n",
      "  Downloading https://files.pythonhosted.org/packages/1e/7a/dbb3be0ce9bd5c8b7e3d87328e79063f8b263b2b1bfa4774cb1147bfcd3f/sklearn-0.0.tar.gz\n",
      "Collecting scikit-learn\n",
      "\u001b[?25l  Downloading https://files.pythonhosted.org/packages/b8/7e/74e707b66490d4eb05f702966ad0990881127acecf9d5cdcef3c95ec6c16/scikit_learn-0.23.1-cp37-cp37m-manylinux1_x86_64.whl (6.8MB)\n",
      "\u001b[K     |████████████████████████████████| 6.8MB 1.8MB/s eta 0:00:01\n",
      "\u001b[?25hCollecting threadpoolctl>=2.0.0\n",
      "  Downloading https://files.pythonhosted.org/packages/f7/12/ec3f2e203afa394a149911729357aa48affc59c20e2c1c8297a60f33f133/threadpoolctl-2.1.0-py3-none-any.whl\n",
      "Collecting joblib>=0.11\n",
      "\u001b[?25l  Downloading https://files.pythonhosted.org/packages/51/dd/0e015051b4a27ec5a58b02ab774059f3289a94b0906f880a3f9507e74f38/joblib-0.16.0-py3-none-any.whl (300kB)\n",
      "\u001b[K     |████████████████████████████████| 307kB 1.4MB/s eta 0:00:01\n",
      "\u001b[?25hRequirement already satisfied: numpy>=1.13.3 in /home/maryam/miniconda3/lib/python3.7/site-packages (from scikit-learn->sklearn) (1.18.1)\n",
      "Requirement already satisfied: scipy>=0.19.1 in /home/maryam/miniconda3/lib/python3.7/site-packages (from scikit-learn->sklearn) (1.5.2)\n",
      "Building wheels for collected packages: sklearn\n",
      "  Building wheel for sklearn (setup.py) ... \u001b[?25ldone\n",
      "\u001b[?25h  Created wheel for sklearn: filename=sklearn-0.0-py2.py3-none-any.whl size=1316 sha256=ca531a305298df07a1adaf6eec2a4101f9786c3becf9ffb676335945808c5df9\n",
      "  Stored in directory: /home/maryam/.cache/pip/wheels/76/03/bb/589d421d27431bcd2c6da284d5f2286c8e3b2ea3cf1594c074\n",
      "Successfully built sklearn\n",
      "Installing collected packages: threadpoolctl, joblib, scikit-learn, sklearn\n",
      "Successfully installed joblib-0.16.0 scikit-learn-0.23.1 sklearn-0.0 threadpoolctl-2.1.0\n"
     ]
    }
   ],
   "source": []
  },
  {
   "cell_type": "code",
   "execution_count": 19,
   "metadata": {},
   "outputs": [],
   "source": []
  },
  {
   "cell_type": "code",
   "execution_count": 20,
   "metadata": {},
   "outputs": [],
   "source": []
  },
  {
   "cell_type": "code",
   "execution_count": 21,
   "metadata": {},
   "outputs": [],
   "source": []
  },
  {
   "cell_type": "code",
   "execution_count": 23,
   "metadata": {},
   "outputs": [],
   "source": []
  },
  {
   "cell_type": "code",
   "execution_count": 24,
   "metadata": {},
   "outputs": [
    {
     "data": {
      "text/plain": [
       "LinearRegression()"
      ]
     },
     "execution_count": 24,
     "metadata": {},
     "output_type": "execute_result"
    }
   ],
   "source": []
  },
  {
   "cell_type": "code",
   "execution_count": 25,
   "metadata": {},
   "outputs": [],
   "source": [
    "\n"
   ]
  },
  {
   "cell_type": "code",
   "execution_count": 26,
   "metadata": {},
   "outputs": [
    {
     "data": {
      "text/plain": [
       "0.063"
      ]
     },
     "execution_count": 26,
     "metadata": {},
     "output_type": "execute_result"
    }
   ],
   "source": []
  },
  {
   "cell_type": "code",
   "execution_count": null,
   "metadata": {},
   "outputs": [],
   "source": []
  }
 ],
 "metadata": {
  "kernelspec": {
   "display_name": "Python 3",
   "language": "python",
   "name": "python3"
  },
  "language_info": {
   "codemirror_mode": {
    "name": "ipython",
    "version": 3
   },
   "file_extension": ".py",
   "mimetype": "text/x-python",
   "name": "python",
   "nbconvert_exporter": "python",
   "pygments_lexer": "ipython3",
   "version": "3.7.4"
  }
 },
 "nbformat": 4,
 "nbformat_minor": 4
}
